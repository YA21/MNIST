{
 "cells": [
  {
   "cell_type": "code",
   "execution_count": 1,
   "metadata": {},
   "outputs": [
    {
     "name": "stderr",
     "output_type": "stream",
     "text": [
      "Using TensorFlow backend.\n"
     ]
    }
   ],
   "source": [
    "import numpy as np\n",
    "from keras.datasets import mnist\n",
    "import matplotlib.pyplot as plt\n",
    "\n",
    "import sys\n",
    "from pathlib import Path, PurePath\n",
    "sys.path.append(str(PurePath(Path().resolve(), '..')))\n",
    "\n",
    "from utils.preprocess import preprocess\n",
    "from models.fully_connected_nn import build_model"
   ]
  },
  {
   "cell_type": "code",
   "execution_count": 2,
   "metadata": {},
   "outputs": [
    {
     "name": "stdout",
     "output_type": "stream",
     "text": [
      "Train on 50000 samples, validate on 10000 samples\n",
      "Epoch 1/1\n",
      "50000/50000 [==============================] - 11s 218us/step - loss: 1.3509 - acc: 0.6462 - val_loss: 0.6178 - val_acc: 0.8550\n",
      "loss for test data: 0.6324649608612061\n",
      "accuracy for test data: 0.8482\n"
     ]
    }
   ],
   "source": [
    "# setting parameters\n",
    "batch_size = 128\n",
    "num_classes = 10\n",
    "epochs = 1\n",
    "\n",
    "# loading datasets\n",
    "(X_train, y_train),(X_test, y_test) = mnist.load_data()\n",
    "\n",
    "# preprocess data\n",
    "X_train, y_train, X_test, y_test = preprocess(X_train, y_train, X_test, y_test, num_classes)\n",
    "\n",
    "# split train & validation data\n",
    "X_train, X_valid = np.split(X_train, [50000])\n",
    "y_train, y_valid = np.split(y_train, [50000])\n",
    "\n",
    "# build model\n",
    "model = build_model()\n",
    "\n",
    "# fitting model to training data\n",
    "fit = model.fit(X_train, y_train,\n",
    "                batch_size=batch_size,\n",
    "                epochs=epochs,\n",
    "                verbose=1,\n",
    "                validation_data=(X_valid,y_valid))\n",
    "\n",
    "# evaluate model\n",
    "score = model.evaluate(X_test, y_test, verbose=0)\n",
    "predict_classes = model.predict_classes(X_test)\n",
    "print(\"loss for test data:\", score[0])\n",
    "print(\"accuracy for test data:\", score[1])"
   ]
  },
  {
   "cell_type": "code",
   "execution_count": 7,
   "metadata": {},
   "outputs": [
    {
     "data": {
      "image/png": "[encoded data removed]",
      "text/plain": [
       "<Figure size 1080x1800 with 10 Axes>"
      ]
     },
     "metadata": {},
     "output_type": "display_data"
    }
   ],
   "source": [
    "num = 10\n",
    "fig = plt.figure(figsize=(15, 25))\n",
    "for i in range(num):\n",
    "    ax = fig.add_subplot(1,num,i+1, xticks=[], yticks=[])\n",
    "    ax.set_title(\"predict:{0}({1})\".format(predict_classes[i], np.argmax(y_test[i])))\n",
    "    ax.imshow(X_test[i].reshape((28, 28)), cmap='gray')"
   ]
  }
 ],
 "metadata": {
  "kernelspec": {
   "display_name": "Python 3",
   "language": "python",
   "name": "python3"
  },
  "language_info": {
   "codemirror_mode": {
    "name": "ipython",
    "version": 3
   },
   "file_extension": ".py",
   "mimetype": "text/x-python",
   "name": "python",
   "nbconvert_exporter": "python",
   "pygments_lexer": "ipython3",
   "version": "3.5.2"
  }
 },
 "nbformat": 4,
 "nbformat_minor": 2
}
